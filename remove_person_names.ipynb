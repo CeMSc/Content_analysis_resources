{
 "cells": [
  {
   "cell_type": "code",
   "execution_count": 1,
   "metadata": {},
   "outputs": [
    {
     "name": "stderr",
     "output_type": "stream",
     "text": [
      "c:\\Users\\MPC_CS\\anaconda3\\lib\\site-packages\\tqdm\\auto.py:21: TqdmWarning: IProgress not found. Please update jupyter and ipywidgets. See https://ipywidgets.readthedocs.io/en/stable/user_install.html\n",
      "  from .autonotebook import tqdm as notebook_tqdm\n"
     ]
    }
   ],
   "source": [
    "import os\n",
    "import spacy"
   ]
  },
  {
   "cell_type": "code",
   "execution_count": 3,
   "metadata": {},
   "outputs": [],
   "source": [
    "# Load English tokenizer, POS tagger, parser, NER and word vectors\n",
    "nlp = spacy.load(\"en_core_web_sm\")\n",
    "\n",
    "def remove_names(text):\n",
    "    doc = nlp(text)\n",
    "    new_text = []\n",
    "    for ent in doc.ents:\n",
    "        if ent.label_ == \"PERSON\":\n",
    "            text = text.replace(ent.text, '')\n",
    "    return text\n",
    "\n",
    "def read_file_with_fallback_encodings(file_path):\n",
    "    encodings_to_try = ['utf-8', 'windows-1252', 'iso-8859-1']  # Add more encodings if necessary\n",
    "    for encoding in encodings_to_try:\n",
    "        try:\n",
    "            with open(file_path, 'r', encoding=encoding) as file:\n",
    "                return file.read()\n",
    "        except UnicodeDecodeError:\n",
    "            pass\n",
    "    raise UnicodeDecodeError(f\"Unable to decode file {file_path} with any of the tried encodings.\")\n",
    "\n",
    "\n",
    "# Path to the folder with text files\n",
    "folder_path = 'TXT_no_names'\n",
    "for filename in os.listdir(folder_path):\n",
    "    if filename.endswith(\".txt\"):\n",
    "        file_path = os.path.join(folder_path, filename)\n",
    "        content = read_file_with_fallback_encodings(file_path)\n",
    "        content_no_names = remove_names(content)\n",
    "        with open(file_path, 'w', encoding='utf-8') as file:\n",
    "            file.write(content_no_names)\n",
    "\n"
   ]
  }
 ],
 "metadata": {
  "kernelspec": {
   "display_name": "base",
   "language": "python",
   "name": "python3"
  },
  "language_info": {
   "codemirror_mode": {
    "name": "ipython",
    "version": 3
   },
   "file_extension": ".py",
   "mimetype": "text/x-python",
   "name": "python",
   "nbconvert_exporter": "python",
   "pygments_lexer": "ipython3",
   "version": "3.10.6"
  },
  "orig_nbformat": 4
 },
 "nbformat": 4,
 "nbformat_minor": 2
}
